{
 "cells": [
  {
   "cell_type": "markdown",
   "metadata": {},
   "source": [
    "**Prerequisites:**\n",
    "- Functions\n",
    "- Collections\n",
    "- NumPy arrays"
   ]
  },
  {
   "cell_type": "markdown",
   "metadata": {},
   "source": [
    "# Linear algebra\n",
    "\n",
    "Linear algebra is wide bearing branch of mathematics that is still actively researched today. It is the fundamental basis for many chemical applications, for example solving the Schrodinger equation, and is the bedrock of computer science. \n",
    "\n",
    "There are multiple linear algebra courses run throughout a mathematics degree, and therefore it is impossible to cover significant proportions of linear algebra in a tutorial such as this. The purpose of this tutorial is to introduce the following key concepts:\n",
    "\n",
    "- Scalars and vectors\n",
    "- The cross and dot product of vectors\n",
    "- Matrices\n",
    "- Notation\n",
    "- Determinants\n",
    "- Bases\n",
    "- Inverse transformations\n",
    "- Active and passive transformations\n",
    "- Diagonalisation\n",
    "- Eigenvectors and eigenvalues\n",
    "- Change of variables\n",
    "\n",
    "This notebook will not be exhaustive when it comes to the concepts above as our aim is to help facilitate your use of python for chemistry problems. For more information on the above there are a plethora of resources based on undergraduate and postgraduate mathematics courses on the web for a more indepth discussion. \n",
    "\n",
    "Whilst many undergraduate chemistry degree courses attempt to steer clear of mathematics as far as possible, we believe that gaining knowledge about these fundamental concepts will not only allow you to become a better programmer, but allow you to tackle the more difficult chemistry problems as well. \n",
    "\n",
    "Due to there being a lot of content to cover, there will be a longer problem notebook that will test your knowledge of linear algebra after this. "
   ]
  },
  {
   "cell_type": "markdown",
   "metadata": {},
   "source": [
    "### Scalars and vectors"
   ]
  },
  {
   "cell_type": "markdown",
   "metadata": {},
   "source": [
    "Scalar values are values that consist of just a magnitude. These are properties such as the distance travelled by an atom, the mass of compound, or speed of a particle in a mass spectrometer. \n",
    "\n",
    "A vector is a property that consists of both a magnitude and a direction. This may be the displacement of an atom, the weight of a compound, or the velocity of a particle. \n",
    "\n",
    "This differentiation is better described with an example: A person drives to the shop from their house. The person's house is at point A, the shop is at point B, and the road connecting points A to B is circular and defined by ACBD.\n",
    "\n",
    "<img src=\"../images/circle_road.pdf\" alt=\"drawing\" width=\"200\"/>\n",
    "\n",
    "The distance travelled by the person is simple to calculate. They must either got from A to C to B or, alternatively, A to D to B. Travelling a semi-circle of radius ten on each of the paths to the shop. Using the equation for an arc,\n",
    "\n",
    "$$ d = r \\theta ,$$ \n",
    "\n",
    "we deduce they travel 10 $\\pi$. \n",
    "\n",
    "But the displacement of the person when arriving at the shop can be determined by thinking of this circle sitting on a coordinate system, as if we are plotting a graph. We conveniently set the origin to be point A, and therefore point A has coordinates (0,0). Point B has coordinates (20,0). This consequently makes the coordinates of point C (10,10) and the coordinates of point D (10,-10) as the radius of the circle is 10. \n",
    "\n",
    "<img src=\"../images/road_config.pdf\" alt=\"drawing\" width=\"400\"/>\n",
    "\n",
    "The grid lines on the graph above are seperated for each value of one in both the x and y directions. It is common practice in linear algebra to define a movement of one in the x direction by **i**, which defines a vector (1,0), and a movement of one in the y direction by __j__, which defines a vector (0,1). As described in the figure below.\n",
    "\n",
    "<img src=\"../images/ij.pdf\" alt=\"drawing\" width=\"400\"/>\n",
    "\n",
    "Not that the vectors **i** and __j__ re represented by arrows from the origin to the relevant point. This is a common, and accepted, method of visualising and representing vectors. We can write the coordinates defined earlier as (x,y), as vectors such that:\n",
    "\n",
    "$$ \\text{A}: \\quad \\mathbf{a}= 0 \\; \\mathbf{i} + 0 \\; \\mathbf{j} $$\n",
    "$$ \\text{B}: \\quad \\mathbf{b}= 20 \\; \\mathbf{i} + 0 \\; \\mathbf{j} $$\n",
    "$$ \\text{C}: \\quad \\mathbf{c}= 10 \\; \\mathbf{i} + 10 \\; \\mathbf{j} $$\n",
    "$$ \\text{D}: \\quad\\mathbf{d}= 10 \\; \\mathbf{i}  -10 \\; \\mathbf{j} $$\n",
    "\n",
    "Here we have defined the vector to go from the origin to point B, as $\\mathbf{b}$. This is because it is conventional to label vectors as lowercase and in bold font. Therefore, the displacement to go from home, at A, to the shop, at B, is defined by:\n",
    "\n",
    "$$ \\mathbf{b} - \\mathbf{a} = 20 \\; \\mathbf{i} + 0 \\; \\mathbf{j} $$\n",
    "\n",
    "Which you may recognise as merely being the vector $\\mathbf{b}$. This is due to the fact that the position A is the origin. \n",
    "\n",
    "We can represent the vectors above as NumPy arrays such that:"
   ]
  },
  {
   "cell_type": "code",
   "execution_count": 2,
   "metadata": {
    "ExecuteTime": {
     "end_time": "2020-05-25T13:07:31.767073Z",
     "start_time": "2020-05-25T13:07:31.760699Z"
    }
   },
   "outputs": [],
   "source": [
    "import numpy as np\n",
    "\n",
    "a = np.array([0,0])\n",
    "\n",
    "b = np.array([20,0])\n",
    "\n",
    "c = np.array([10,10])\n",
    "\n",
    "d = np.array([10,-10])"
   ]
  },
  {
   "cell_type": "markdown",
   "metadata": {},
   "source": [
    "Now image the another person travelling to the shop. This individual's house is located at C. The distance this individual has to travel is again calculated using the equation for an arc expressed before\n",
    "\n",
    "$$ d = r \\theta = 10 \\frac{\\pi}{2}  = 5\\pi$$ \n",
    "\n",
    "and the displacement of this individual to go from their house is given by $\\mathbf{c} - \\mathbf{b}$.  This can now be calculated using python with the following code:"
   ]
  },
  {
   "cell_type": "code",
   "execution_count": 4,
   "metadata": {
    "ExecuteTime": {
     "end_time": "2020-05-25T13:11:19.606817Z",
     "start_time": "2020-05-25T13:11:19.603133Z"
    }
   },
   "outputs": [
    {
     "name": "stdout",
     "output_type": "stream",
     "text": [
      "The displacement of this individual to go to the shop is [-10  10]\n"
     ]
    }
   ],
   "source": [
    "displacement = c - b \n",
    "\n",
    "print(\"The displacement of this individual to go to the shop is\", displacement)"
   ]
  },
  {
   "cell_type": "markdown",
   "metadata": {},
   "source": [
    "Recall that the array [-10 10] is equivalent to \n",
    "\n",
    "$$ -10 \\; \\mathbf{i} + 10 \\; \\mathbf{j}$$\n",
    "\n",
    "**Exercise:** Using the NumPy arrays defined above, calculate the displacement of an individual travelling from point D to the shop, and the displacement between the points C and D. In addition, calculate the distances traversed when travelling between these points on the circular path. "
   ]
  },
  {
   "cell_type": "code",
   "execution_count": 6,
   "metadata": {
    "ExecuteTime": {
     "end_time": "2020-05-25T13:16:11.425912Z",
     "start_time": "2020-05-25T13:16:11.421021Z"
    }
   },
   "outputs": [],
   "source": [
    "### Write your code here"
   ]
  },
  {
   "cell_type": "markdown",
   "metadata": {},
   "source": [
    "In the above example, we described movement on a two-dimensional plane. Often, problems in chemistry are three-dimensional. Similarly to earlier, in three dimensions we describe the coordinates (x,y,z) as \n",
    "\n",
    "$$ x \\; \\mathbf{i} + y \\; \\mathbf{j} +  z \\; \\mathbf{k} ,$$\n",
    "\n",
    "where **k** describes the vector associated with a movement of magntiude one in the z direction. Let us consider a problem similar to the one we have already discussed: travelling on the surface of a sphere. Consider a sphere of radius ten with associated the following associated points\n",
    "\n",
    "$$ \\text{A}: \\quad \\mathbf{a}= -10 \\; \\mathbf{i} + 0 \\; \\mathbf{j} +  0 \\; \\mathbf{k}$$\n",
    "$$ \\text{B}: \\quad \\mathbf{b}= 10 \\; \\mathbf{i} + 0 \\; \\mathbf{j} + 0 \\; \\mathbf{k}$$\n",
    "$$ \\text{C}: \\quad \\mathbf{c}= 0 \\; \\mathbf{i} + 10 \\; \\mathbf{j} + 0 \\; \\mathbf{k} $$\n",
    "$$ \\text{D}: \\quad\\mathbf{d}= 0 \\; \\mathbf{i}  -10 \\; \\mathbf{j}  + 0 \\; \\mathbf{k}$$\n",
    "$$ \\text{E}: \\quad\\mathbf{e}= 0 \\; \\mathbf{i} + 0 \\; \\mathbf{j}  + 10 \\; \\mathbf{k}$$\n",
    "$$ \\text{F}: \\quad\\mathbf{f}= 0 \\; \\mathbf{i} + 0 \\; \\mathbf{j}  - 10 \\; \\mathbf{k}$$\n",
    "\n",
    "Here the origin is at the centre of the sphere. The system defined here is:\n",
    "\n",
    "<img src=\"../images/sphere.pdf\" alt=\"drawing\" width=\"600\"/>\n",
    "\n",
    "Consider traversing the sphere between the points along the shortest path. This again can be described using the equation for an arc. To traverse between adjacent points requires moving a distance of 5 $\\pi$, whilst to traverse between points that are opposite one another requires moving a distance of 10 $\\pi$ along the surface of the sphere. \n",
    "\n",
    "The displacement to go from position A to position B is:\n",
    "\n",
    "$$ \\mathbf{b} - \\mathbf{a} = 20 \\; \\mathbf{i} + 0 \\; \\mathbf{j} +  0 \\; \\mathbf{k} $$\n",
    "\n",
    "An easy way thinking about adding and subtracting vectors is the \"tip to tail\" method. As discussed earlier, vectors can be visualised as vectors from the origin to their respective points. If we take the example above where we subtract the vector $\\mathbf{a}$ from the vector $\\mathbf{b}$ we can think of this as:\n",
    "\n",
    "$$ \\mathbf{b} - \\mathbf{a} = \\mathbf{b} + \\mathbf{-a},$$\n",
    "\n",
    "where \n",
    "\n",
    "$$ \\mathbf{a}= -10 \\; \\mathbf{i} + 0 \\; \\mathbf{j} +  0 \\; \\mathbf{k},$$\n",
    "$$\\quad \\mathbf{b}= 10 \\; \\mathbf{i} + 0 \\; \\mathbf{j} + 0 \\; \\mathbf{k}.$$\n",
    "\n",
    "Therefore \n",
    "\n",
    "$$ \\mathbf{-a}= 10 \\; \\mathbf{i} + 0 \\; \\mathbf{j} +  0 \\; \\mathbf{k}.$$\n",
    "\n",
    "We can therefore represent both $\\mathbf{a}$ and $\\mathbf{b}$ as an arrow from the origin to (10,0,0). The \"tip to tail\" method is where, starting from the origin, we create a trail of vectors where the tip of an arrow is followed by the tail of another. This can be seen below: \n",
    "\n",
    "<img src=\"../images/additive_vectors.pdf\" alt=\"drawing\" width=\"600\"/>\n",
    "\n",
    "**Exercise:** Determine the displacement to when someone travels from point D to point F. "
   ]
  },
  {
   "cell_type": "code",
   "execution_count": 7,
   "metadata": {
    "ExecuteTime": {
     "end_time": "2020-05-25T14:36:24.737277Z",
     "start_time": "2020-05-25T14:36:24.734381Z"
    }
   },
   "outputs": [],
   "source": [
    "### Write your code here"
   ]
  },
  {
   "cell_type": "markdown",
   "metadata": {},
   "source": [
    "### Dot and cross product of vectors"
   ]
  },
  {
   "cell_type": "markdown",
   "metadata": {},
   "source": [
    "The dot products, or alternatively the scalar product, is defined between two vectors as \n",
    "\n",
    "$$ \\mathbf{u} \\cdot \\mathbf{v} = \\sum_{i} u_{i} v_{i}, $$\n",
    "\n",
    "here we introduce the common vector notation \n",
    "\n",
    "$$ \\mathbf{u} = [ u_{1} , u_{2}, ... , u_{n} ] .$$\n",
    "\n",
    "Consider the vectors\n",
    "\n",
    "$$ \\mathbf{u} = [1,3, 3, 0], $$\n",
    "$$\\mathbf{v} = [0,2,1,5]. $$\n",
    "\n",
    "The dot product between these two vectors is\n",
    "\n",
    "$$ \\mathbf{u} \\cdot \\mathbf{v} = \\sum_{i} u_{i} v_{i} $$\n",
    "\n",
    "$$= 1 \\cdot 0 + 3 \\cdot 2 + 3 \\cdot 1 + 0 \\cdot 5 = 0 + 6 + 3 + 0 = 9 $$\n",
    "\n",
    "Calculating the dot product is made simple with the NumPy module. If we wished to calculate the above dot product using python, one could define the vectors as previously shown and us np.dot(u,v) to determine the dot product. This is illustrated below"
   ]
  },
  {
   "cell_type": "code",
   "execution_count": 9,
   "metadata": {
    "ExecuteTime": {
     "end_time": "2020-05-26T09:38:53.524430Z",
     "start_time": "2020-05-26T09:38:53.518692Z"
    }
   },
   "outputs": [
    {
     "data": {
      "text/plain": [
       "9"
      ]
     },
     "execution_count": 9,
     "metadata": {},
     "output_type": "execute_result"
    }
   ],
   "source": [
    "u = np.array([1,3,3,0])\n",
    "v = np.array([0,2,1,5])\n",
    "np.dot(u,v)"
   ]
  },
  {
   "cell_type": "markdown",
   "metadata": {},
   "source": [
    "As expected a value of 9 is returned. \n",
    "\n",
    "The magnitude of a vector is defined as the square root of the dot product between the vector and itself. Consider the vectors $\\mathbf{u}$ and $\\mathbf{v}$ above, their magnitudes are given by\n",
    "\n",
    "$$ ||\\mathbf{u}|| = \\sqrt{\\mathbf{u} \\cdot \\mathbf{u}} = $$\n",
    "$$\\sqrt{ 1 \\cdot 1 + 3 \\cdot 3 + 3 \\cdot 3 + 0 \\cdot 0 }= \\sqrt{19},$$\n",
    "\n",
    "$$ ||\\mathbf{v}|| = \\sqrt{\\mathbf{v} \\cdot \\mathbf{v} }= $$\n",
    "$$ \\sqrt{0 \\cdot 0 + 2 \\cdot 2 + 1 \\cdot 1 + 5 \\cdot 5 }= \\sqrt{30}.$$\n",
    "\n",
    "$||\\mathbf{u}||$ represents the magnitude of a vector. The magnitude is also easily calculated using NumPy. To determime the magntiude of the vector $\\mathbf{u}$, we can use"
   ]
  },
  {
   "cell_type": "code",
   "execution_count": 12,
   "metadata": {
    "ExecuteTime": {
     "end_time": "2020-05-26T10:45:51.619438Z",
     "start_time": "2020-05-26T10:45:51.615174Z"
    }
   },
   "outputs": [
    {
     "name": "stdout",
     "output_type": "stream",
     "text": [
      "The magnitude of the vector u is sqrt( 19.0 ).\n"
     ]
    }
   ],
   "source": [
    "np.linalg.norm(u)\n",
    "\n",
    "print(\"The magnitude of the vector u is sqrt(\", np.round(np.linalg.norm(u)**2,5), \").\" )"
   ]
  },
  {
   "cell_type": "markdown",
   "metadata": {},
   "source": [
    "The above definition of the dot product is the algebraic definition of the dot product. An alternative, geometric, definition of the dot product is \n",
    "\n",
    "$$ \\mathbf{u} \\cdot \\mathbf{v} = || \\mathbf{u} || \\; ||\\mathbf{v} || \\cos (\\theta) $$\n",
    "\n",
    "where $\\theta$ is the angle between the vectors $\\mathbf{u}$ and $\\mathbf{v}$. In order to determine the angle between two vectors one can rearrange the above equation for theta,\n",
    "\n",
    "$$ \\theta = \\arccos \\left( \\frac{\\mathbf{u} \\cdot \\mathbf{v} }{||\\mathbf{u} || \\; || \\mathbf{v} || } \\right). $$\n",
    "\n",
    "The angle theta is illustrated below for two arbitrary vectors:\n",
    "\n",
    "<img src=\"../images/theta.pdf\" alt=\"drawing\" width=\"200\"/>\n",
    "\n",
    "We can therefore determine the angle between $\\mathbf{u}$ and $\\mathbf{v}$ using the following code:"
   ]
  },
  {
   "cell_type": "code",
   "execution_count": 15,
   "metadata": {
    "ExecuteTime": {
     "end_time": "2020-05-26T10:49:36.114072Z",
     "start_time": "2020-05-26T10:49:36.108105Z"
    }
   },
   "outputs": [
    {
     "name": "stdout",
     "output_type": "stream",
     "text": [
      "The angle between the vectors u and v is 1.1842751591691685 radians.\n"
     ]
    }
   ],
   "source": [
    "mag_u = np.linalg.norm(u)\n",
    "mag_v = np.linalg.norm(v)\n",
    "\n",
    "numerator = np.dot(u,v)\n",
    "denominator = mag_u * mag_v \n",
    "\n",
    "theta = np.arccos(numerator / denominator)\n",
    "\n",
    "print(\"The angle between the vectors u and v is\", theta, \"radians.\")"
   ]
  },
  {
   "cell_type": "markdown",
   "metadata": {},
   "source": [
    "**Exercise:** Using the functions np.dot, np.linalg.norm, and np.arccos, determine the magnitudes and angles between all pairs of vectors for the standard basis vectors introduced earlier\n",
    "\n",
    "$$ \\mathbf{i} = [1, 0, 0], $$\n",
    "$$ \\mathbf{j} = [0, 1, 0], $$\n",
    "$$ \\mathbf{k} = [0, 0, 1]. $$\n",
    "\n",
    "Think about what you would expect the answers to be before using python to calculate the solutions."
   ]
  },
  {
   "cell_type": "code",
   "execution_count": 16,
   "metadata": {
    "ExecuteTime": {
     "end_time": "2020-05-26T10:52:53.693627Z",
     "start_time": "2020-05-26T10:52:53.690012Z"
    }
   },
   "outputs": [],
   "source": [
    "### Write your code here"
   ]
  },
  {
   "cell_type": "code",
   "execution_count": null,
   "metadata": {},
   "outputs": [],
   "source": []
  }
 ],
 "metadata": {
  "kernelspec": {
   "display_name": "Python 3",
   "language": "python",
   "name": "python3"
  },
  "language_info": {
   "codemirror_mode": {
    "name": "ipython",
    "version": 3
   },
   "file_extension": ".py",
   "mimetype": "text/x-python",
   "name": "python",
   "nbconvert_exporter": "python",
   "pygments_lexer": "ipython3",
   "version": "3.7.3"
  }
 },
 "nbformat": 4,
 "nbformat_minor": 4
}
